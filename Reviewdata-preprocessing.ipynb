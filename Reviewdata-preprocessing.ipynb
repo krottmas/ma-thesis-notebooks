{
 "cells": [
  {
   "cell_type": "markdown",
   "id": "9a662bf7",
   "metadata": {},
   "source": [
    "# Working with extracted Steam Reviews"
   ]
  },
  {
   "cell_type": "markdown",
   "id": "48a47506",
   "metadata": {},
   "source": [
    "Code for datacleaning of the reviews (see Notebook \"Steam-Reviewextraction\"). Keep in mind, that this code is designed for data-processing, which excludes reviewdata based on a certain year (in this case the reviews from 2022)."
   ]
  },
  {
   "cell_type": "markdown",
   "id": "4ecfe92c",
   "metadata": {},
   "source": [
    "## (A) Initiate the loop through the files and save the reviews regarding to their review-update date in lists "
   ]
  },
  {
   "cell_type": "markdown",
   "id": "8cb2a9dc",
   "metadata": {},
   "source": [
    "### Necessary Modules"
   ]
  },
  {
   "cell_type": "code",
   "execution_count": null,
   "id": "0e7d3372",
   "metadata": {},
   "outputs": [],
   "source": [
    "import json\n",
    "import datetime \n",
    "import glob \n",
    "import codecs \n",
    "import csv \n",
    "import os \n",
    "import uuid\n",
    "import arrow  \n",
    "import re "
   ]
  },
  {
   "cell_type": "markdown",
   "id": "fe527cdc",
   "metadata": {},
   "source": [
    "### A.1 Sort the reviews of a language according to their update-date and save the information of interest as sublist in a pre-defined list per year - reviewSorter()"
   ]
  },
  {
   "cell_type": "markdown",
   "id": "a18a2518",
   "metadata": {},
   "source": [
    "This function sorts the reviews in the JSON files by date in lists. Important for this function is to create the required date list(s) as empty list(s) beforehand. \n",
    "If a year is left out, it must also be created as a date list, since this list will be used later as a reference list to be subtracted.The function itself requires 4 variables:\n",
    "- date = the year as string \n",
    "- variable = the respective date variable to be sorted by (in this case Time_updated)\n",
    "- the previously created empty list\n",
    "- previously defined variable containing a regex which matches on certain words to sort the languages in the best possible way --> necessary because the languages do not always match despite the assignment\n",
    "\n",
    "This code extracts the following data: steam id (randomized); playtime up to review; if the game was bought or gifted by dev; if the review is in the language of interest based on the before defined regex; \n",
    "\n",
    "It also extracts the date of creation and of a (possible) update of the review;\n"
   ]
  },
  {
   "cell_type": "code",
   "execution_count": null,
   "id": "1e668e3f",
   "metadata": {
    "scrolled": false
   },
   "outputs": [],
   "source": [
    "ReviewList_2020 = []\n",
    "ReviewList_2021 = []\n",
    "SubstractedReviewList_2022 = [] \n",
    "LanguageRegex = ' ' # <-- contains 'defining' words for a language \n",
    "\n",
    "def reviewSorter(date, variable, liste: list, regex:str):\n",
    "    if (date in variable):\n",
    "        realIDs = reviewdata['author']['steamid'] #randomized gamerID for dataprotection \n",
    "        for IDs in realIDs: \n",
    "            fakeID = str(uuid.uuid4())\n",
    "            gamerID = fakeID.split('-')[0]\n",
    "                  \n",
    "        if 'playtime_at_review' not in reviewdata['author']:\n",
    "            gameTime = 'not measurable'\n",
    "            gameTime_rounded = 0\n",
    "        else:\n",
    "            gameTime = reviewdata['author']['playtime_at_review'] / 60\n",
    "            gameTime_rounded = round(gameTime, 1)\n",
    "        free = reviewdata['received_for_free']\n",
    "     \n",
    "        if reviewdata['received_for_free'] == True:\n",
    "            selfbought = 'no'\n",
    "        else: \n",
    "            selfbought = 'yes'       \n",
    "        if bool(re.search( regex, reviewdata['review'], flags=re.IGNORECASE)) == True:            \n",
    "            langCorrelation = 'yes'\n",
    "            \n",
    "        else:\n",
    "            langCorrelation = 'no'\n",
    "        \n",
    "        reviews = reviewdata['review']  \n",
    "        liste.append([gamerID, Time_written, Time_updated, gameTime_rounded, selfbought, langCorrelation, reviews])       "
   ]
  },
  {
   "cell_type": "markdown",
   "id": "e424c6a8",
   "metadata": {},
   "source": [
    "### A.2 time-conversion and function call inside of a loop"
   ]
  },
  {
   "cell_type": "markdown",
   "id": "9f0712d9",
   "metadata": {},
   "source": [
    "Opens all the jsonfiles; saves the reviews in a variable; converts the unix-timestamps and calls the reviewSorter function inside of the loop; "
   ]
  },
  {
   "cell_type": "code",
   "execution_count": null,
   "id": "0c70d0fd",
   "metadata": {},
   "outputs": [],
   "source": [
    "for json_file in glob.glob(\"path_to_local_stored_JSON/jsonfile*.json\"):\n",
    "    with codecs.open(json_file, 'r','utf-8') as file: \n",
    "        reviews = json.load(file)\n",
    "            \n",
    "        AllReviews = reviews['reviews']\n",
    "        for reviewdata in AllReviews:\n",
    "            date_created = reviewdata['timestamp_created']\n",
    "            date_updated = reviewdata['timestamp_updated']\n",
    "            realtime_created = datetime.datetime.fromtimestamp(date_created)\n",
    "            realtime_updated = datetime.datetime.fromtimestamp(date_updated)\n",
    "            Time_written = (f\"{realtime_created:%Y-%m-%d}\")\n",
    "            Time_updated = (f\"{realtime_updated:%Y-%m-%d}\")  \n",
    "          \n",
    "        #function needs to be called inside of the loop, since it uses two variables which are defined inside of the loop\n",
    "            reviewSorter('2020', Time_updated, ReviewList_2020, LanguageRegex) \n",
    "            reviewSorter('2021', Time_updated, ReviewList_2021, LanguageRegex)\n",
    "            reviewSorter('2022', Time_updated, SubstractedReviewList_2022, LanguageRegex)               \n"
   ]
  },
  {
   "cell_type": "markdown",
   "id": "ea01598b",
   "metadata": {},
   "source": [
    "### A.3 Prepare the lists for table generation in future"
   ]
  },
  {
   "cell_type": "markdown",
   "id": "606a058d",
   "metadata": {},
   "source": [
    "Inserts list with possible 'header-row' for table generation later on"
   ]
  },
  {
   "cell_type": "code",
   "execution_count": null,
   "id": "adcbd807",
   "metadata": {},
   "outputs": [],
   "source": [
    "ReviewList_2020.insert(0, ['gamerID', 'Review written on:', 'Review updatet on:', 'Playtime to reviewcreation', 'Game was bought by player:', 'Language is consistent with extraction parmeter:','reviewtext' ])   \n",
    "ReviewList_2021.insert(0, ['gamerID', 'Review written on:', 'Review updatet on:', 'Playtime to reviewcreation', 'Game was bought by player:', 'Language is consistent with extraction parmeter:','reviewtext' ]) \n",
    "SubstractedReviewList_2022.insert(0, ['gamerID', 'Review written on:', 'Review updatet on:', 'Playtime to reviewcreation', 'Game was bought by player:', 'Language is consistent with extraction parmeter:','reviewtext' ]) \n"
   ]
  },
  {
   "cell_type": "markdown",
   "id": "c1ce3260",
   "metadata": {},
   "source": [
    "##  (B) Create overview-table with basic information on the review"
   ]
  },
  {
   "cell_type": "markdown",
   "id": "ed0f98d8",
   "metadata": {},
   "source": [
    "### B.1 Function for creating an overview table - ReviewWriter_overview()"
   ]
  },
  {
   "cell_type": "markdown",
   "id": "4f13c007",
   "metadata": {},
   "source": [
    "This function extracts all necessary information from the first JSON file to create a general overview file for the given language.  This info includes:\n",
    "- Total number of reviews \n",
    "- Total number of positive reviews \n",
    "- Total number of negative reviews \n",
    "- Amount of used reviews (if years are being excluded)\n",
    "- Language \n",
    "- Game ranking \n",
    "\n",
    "The function must be passed the path to the first JSON file, the language as string, the the directory to save the table and the list of the year which is not considered in the research. \n",
    "At this point there also will be initated a list for later calculating purposes (calculatorlist), which will be filled during this function."
   ]
  },
  {
   "cell_type": "code",
   "execution_count": null,
   "id": "b1ba82b9",
   "metadata": {},
   "outputs": [],
   "source": [
    "baseinfo = \"path_to_saved_json/firstjsonfile.json\"\n",
    "tableSavepath = \"C:/Users/kitsu/JSON_FILES/jsongerman/CSV\"\n",
    "calculatorList= [] #for calculation operations during the YearlyOverviewCreator-function later on"
   ]
  },
  {
   "cell_type": "code",
   "execution_count": null,
   "id": "d40e1905",
   "metadata": {},
   "outputs": [],
   "source": [
    "def ReviewWriter_overview (pathToFirstJson, language:str, pathToSavingLocation, excludedList:list):\n",
    "    info = []\n",
    "    itemsInList = excludedList[1::]\n",
    "    itemsToSubstract = len(itemsInList)\n",
    "    print(itemsToSubstract)\n",
    "    Existing = os.path.exists(pathToSavingLocation)\n",
    "    if not Existing:\n",
    "      # Create a new directory if it does not exist\n",
    "      os.makedirs(pathToSavingLocation)\n",
    "      print(\"The new directory is created!\")\n",
    "    \n",
    "    with open(pathToFirstJson, 'r') as firstfile: #Retrieve basic Info on Reviews \n",
    "        json_file = json.load(firstfile)\n",
    "        ReviewSum = json_file['query_summary']['total_reviews']  \n",
    "        RealReviewCount = ReviewSum - itemsToSubstract\n",
    "        rcalculatorList.append(ReviewSum)       \n",
    "        ReviewPos = json_file['query_summary']['total_positive']\n",
    "        ReviewNeg = json_file['query_summary']['total_negative']\n",
    "        ReviewLang = language\n",
    "        ReviewScore = json_file['query_summary']['review_score_desc']        \n",
    "        info.append([ReviewSum, ReviewPos, ReviewNeg, RealReviewCount, ReviewLang, ReviewScore])\n",
    "        info.insert(0, ['Overall amount of reviews', 'Positive reviews', 'Negative reviews', 'Amount of used reviews', 'Language', 'Game ranking'])\n",
    "\n",
    "        overviewTitle = f'Reviews{language}_GeneralOverview.csv'\n",
    "        saveToFolder = os.path.join (pathToSavingLocation,overviewTitle)\n",
    "\n",
    "        with open (saveToFolder, \"w\", newline='') as csvfile:\n",
    "            writer = csv.writer(csvfile)\n",
    "            writer.writerows(info)\n",
    "            "
   ]
  },
  {
   "cell_type": "markdown",
   "id": "1a1ff29e",
   "metadata": {},
   "source": [
    "#### Function call"
   ]
  },
  {
   "cell_type": "code",
   "execution_count": null,
   "id": "6af20c3c",
   "metadata": {},
   "outputs": [],
   "source": [
    "ReviewWriter_overview(baseinfo, 'German', tableSavepath , SubstractedReviewList_2022)"
   ]
  },
  {
   "cell_type": "markdown",
   "id": "c4ca00eb",
   "metadata": {},
   "source": [
    "#### B.2 !!Optional!! function to save the content of the lists (e.g. ReviewList_2020) as a table - ReviewWriter_all ()"
   ]
  },
  {
   "cell_type": "markdown",
   "id": "de9128e1",
   "metadata": {},
   "source": [
    "This function retrieves the data saved in the 'annual review lists' (e.g. ReviewList_2020) and saves them in tables (one per year). This tables contain the following data: \n",
    "\n",
    "- fake ID\n",
    "- information about when a review was written and updated\n",
    "- how long the game was played until the review was written\n",
    "- whether the game itself was purchased \n",
    "- and the review text\n",
    "\n",
    "The function must be passed a \"path variable\" (which is initialized before - tableSavepath), the language as string, the respective list and the respective year as parameters. \n"
   ]
  },
  {
   "cell_type": "code",
   "execution_count": null,
   "id": "156ff79c",
   "metadata": {},
   "outputs": [],
   "source": [
    "def ReviewWriter_all (pathToSavingLocation, language, liste: list, year:int):\n",
    "    \n",
    "    Existing = os.path.exists(pathToSavingLocation)\n",
    "    if not Existing:\n",
    "      # Create a new directory if non existent\n",
    "      os.makedirs(tableSavepath )\n",
    "      print(\"The new directory is created!\")\n",
    "    \n",
    "    filename = f'Reviews{language}_{year}.csv'\n",
    "    saveToFolder = os.path.join (pathToSavingLocation,filename)\n",
    "    \n",
    "    with open (saveToFolder, \"w\", newline='', encoding='utf-8') as csvfile:\n",
    "        writer = csv.writer(csvfile)\n",
    "        writer.writerows(liste)"
   ]
  },
  {
   "cell_type": "code",
   "execution_count": null,
   "id": "324ae83f",
   "metadata": {},
   "outputs": [],
   "source": [
    "ReviewWriter_all(tableSavepath, 'German', ReviewList_2020, 2020)\n",
    "ReviewWriter_all(tableSavepath, 'German', ReviewList_2021, 2021)"
   ]
  },
  {
   "cell_type": "markdown",
   "id": "aedf3228",
   "metadata": {},
   "source": [
    "## (C) Create Table with statistical information"
   ]
  },
  {
   "cell_type": "markdown",
   "id": "d6c73cae",
   "metadata": {},
   "source": [
    "###  C.1 Function for saving statistical data on the reviews in a list - YearlyOverviewCreator ()"
   ]
  },
  {
   "cell_type": "markdown",
   "id": "e2e83dca",
   "metadata": {},
   "source": [
    "This function takes the required information from the annual review lists (e.g. ReviewList_2020) to create statistical overviews per year.\n",
    "The function needs three parameters - the annual list in question; the excluded annual list; and an empty list functioning as a temporary savespace for the data. \n",
    "**Important**: The annual list in question must contain a _header-row_ list at index 0. <br> \n",
    "The extracted data contains : <br>\n",
    "\n",
    "- Year in question\n",
    "- Amount of Reviews written/updated in that year\n",
    "- Amount of reviews written in the assigned language \n",
    "- percentage of users who bought the game by themselves\n",
    "- average playtime before review was written \n",
    "- amount of updated reviews\n",
    "- average amount of dates between creation and update of a review \n",
    "\n",
    "This function has to be calles for all annual review lists created! The information is saved as sublist per year in the prepared empty list. "
   ]
  },
  {
   "cell_type": "code",
   "execution_count": null,
   "id": "a4f56346",
   "metadata": {},
   "outputs": [],
   "source": [
    "StatisticalOverview = [['Year', 'Reviewamount', '... % of the overall amount of reviews', '... are in the assigned language ', 'equals ...% of the annual review amount', '... written in another language', ' equals...% of the annual review amount', '...% of gamers bought the game by themselves', 'average gametime up to review creation', '... of reviews updated', 'avaerage amount of days between creation and update']]\n",
    "\n",
    "\n",
    "def YearlyOverviewCreator (reviewliste: list, ignoreddata:list, newlist:list):    \n",
    "    # necessary lists as temporary save location \n",
    "    gameTime_List = []\n",
    "    purchaseList = []\n",
    "    upDateList = []\n",
    "    upDateDays = []\n",
    "    langList = []       \n",
    "    \n",
    "    CleanedList = reviewliste[1::] #excludes the header row of the list in question\n",
    "    Reviewamount = len(CleanedList) # counts the items\n",
    "    allReviews = calculatorList[0] # uses the calculaterlist, in which the overall amount of reviews was saved in the ReviewWriter_overview function\n",
    "    Year = CleanedList[1][2][0:4]\n",
    "    \n",
    "    \n",
    "    PercentageOfAllReviews = str(round((Reviewamount / allReviews) * 100, 2)) + ' %'\n",
    "    \n",
    "    for sublist in CleanedList:\n",
    "        gameTime_List.append(sublist[3])\n",
    "        purchaseList.append(sublist[4])\n",
    "        initialReviewDate = sublist[1]\n",
    "        updateReviewDate = sublist[2]\n",
    "        langList.append(sublist[5])\n",
    "        \n",
    "        if initialReviewDate == updateReviewDate:\n",
    "            Updatemessage = 'no Update'\n",
    "        \n",
    "        else:\n",
    "            orig = arrow.get(initialReviewDate)\n",
    "            upd = arrow.get(updateReviewDate)\n",
    "            daycount = (upd-orig) \n",
    "            days = daycount.days\n",
    "            upDateDays.append(days) #remember! reviews have been sorted according their updatedate! \n",
    "            \n",
    "            Updatemessage = 'Update'\n",
    "            upDateList.append(Updatemessage)\n",
    "        \n",
    "    \n",
    "    Updates = len(upDateList)\n",
    "    DaysBetweenUpdates = round(sum(upDateDays)/Updates, 2)\n",
    "    AverageGameTime = round(sum(gameTime_List)/len(gameTime_List), 2)\n",
    "    PurchaseInfo = round((purchaseList.count('yes') / Reviewamount) * 100, 2)\n",
    "    rightLang = langList.count('yes')\n",
    "    rightLangPerc = str(round((rightLang / Reviewamount) *100, 2)) + ' %'\n",
    "    wrongLang = langList.count('no')\n",
    "    wrongLangPerc = str(round((wrongLang / Reviewamount) *100, 2)) + ' %'\n",
    "    \n",
    "    newlist.append([Year, Reviewamount, PercentageOfAllReviews, rightLang , rightLangPerc , wrongLang, wrongLangPerc,  PurchaseInfo, AverageGameTime, Updates, DaysBetweenUpdates])   "
   ]
  },
  {
   "cell_type": "markdown",
   "id": "9e422695",
   "metadata": {},
   "source": [
    "#### function call "
   ]
  },
  {
   "cell_type": "code",
   "execution_count": null,
   "id": "21cef5b2",
   "metadata": {},
   "outputs": [],
   "source": [
    "YearlyOverviewCreator (ReviewList_2020, SubstractedReviewList_2022, StatisticalOverview)\n",
    "YearlyOverviewCreator (ReviewList_2021, SubstractedReviewList_2022, StatisticalOverview)"
   ]
  },
  {
   "cell_type": "markdown",
   "id": "71541d92",
   "metadata": {},
   "source": [
    "### C.2 Function to save the retrieved statistical data in a table - Statistical_Overview() "
   ]
  },
  {
   "cell_type": "markdown",
   "id": "de64d656",
   "metadata": {},
   "source": [
    "This function writes the data, saved in the prepared list (e.g. StatisticalOverview) in a table. The function needs the following parameters: \n",
    "\n",
    "- variable, which contains the path to the save-folder<br>\n",
    "- language<br>\n",
    "- the list with the statistical data"
   ]
  },
  {
   "cell_type": "code",
   "execution_count": null,
   "id": "6cf06bc8",
   "metadata": {},
   "outputs": [],
   "source": [
    "def Statistical_Overview (pathToSavingLocation, language:str, year: list):\n",
    "    \n",
    "    Existing = os.path.exists(pathToSavingLocation)\n",
    "    if not Existing:\n",
    "      # Create a new directory because it does not exist \n",
    "      os.makedirs(Basispfad)\n",
    "      print(\"The new directory is created!\")\n",
    "    \n",
    "    filename = f'Reviews{language}_StatisticalOverview.csv'\n",
    "    saveToFolder = os.path.join (pathToSavingLocation, filename)\n",
    "    \n",
    "    with open (saveToFolder, \"w\", newline='', encoding='utf-8') as csvfile:\n",
    "        writer = csv.writer(csvfile)\n",
    "        writer.writerows(liste)\n",
    "\n",
    "Statistical_Overview(tableSavepath , 'German', StatisticalOverview)"
   ]
  },
  {
   "cell_type": "markdown",
   "id": "baafe51f",
   "metadata": {},
   "source": [
    "## (D) Save the review text als TXT files "
   ]
  },
  {
   "cell_type": "markdown",
   "id": "5a73ad5c",
   "metadata": {},
   "source": [
    "### D.1 Function to save the reviewtexts per year in a TXT-file to further analyse the reviewtexts - ReviewToTXT ()"
   ]
  },
  {
   "cell_type": "markdown",
   "id": "5dfdde42",
   "metadata": {},
   "source": [
    "Ths function extracts the reviewtexts of a list (e.g. ReviewList_2020) and saves it as a TXT file. The function needs the following parameters:<br>\n",
    "- annual review list\n",
    "- language\n",
    "- year\n",
    "- variable which contains the path to the storage folder of the txt files\n",
    "\n",
    "Since the reviews here are now scouted for possible language errors, a empty list for all the non-suitable reviews is created. During the function call all the non-suitable reviews will be written in this list."
   ]
  },
  {
   "cell_type": "code",
   "execution_count": null,
   "id": "2c8122ea",
   "metadata": {},
   "outputs": [],
   "source": [
    "pathToTXT = \"pathToStoreTXTfiles\"\n",
    "\n",
    "DropoutReviewsAll = [] #for non-suitable reviews"
   ]
  },
  {
   "cell_type": "code",
   "execution_count": null,
   "id": "8b6735ee",
   "metadata": {},
   "outputs": [],
   "source": [
    "def ReviewToTXT (reviewListe:list, language:str, year, pathvariable):\n",
    "    #necessary temporary lists\n",
    "    ReviewCollection= []\n",
    "    DropoutReviews = []\n",
    "\n",
    "    for reviews in reviewListe: \n",
    "        Rev = reviews[6]\n",
    "        if bool(re.search( 'yes', reviews[5], flags=re.IGNORECASE)) == True:            \n",
    "            ReviewCollection.append(Rev)                       \n",
    "        else:\n",
    "            DropoutReviews.append(Rev)\n",
    "               \n",
    "\n",
    "        Existing = os.path.exists(pathvariable)\n",
    "        if not Existing:\n",
    "          # Create a new directory if it does not exist\n",
    "            os.makedirs(path)\n",
    "            print(\"The new directory is created!\")\n",
    "\n",
    "        filename = f'Reviews{language}-{year}.txt'\n",
    "        saveToFolder = os.path.join (pathvariable,filename)\n",
    "\n",
    "        with open (saveToFolder, \"w\", encoding='utf-8') as txtfile:\n",
    "             for item in ReviewCollection[1:]:\n",
    "                txtfile.write( \"%s\\n\" % item)  \n",
    "            \n",
    "    DropoutReviewsAll.append(DropoutReviews[1:])      "
   ]
  },
  {
   "cell_type": "markdown",
   "id": "450957bb",
   "metadata": {},
   "source": [
    "#### Function call "
   ]
  },
  {
   "cell_type": "code",
   "execution_count": null,
   "id": "0a42f59c",
   "metadata": {},
   "outputs": [],
   "source": [
    "ReviewToTXT (ReviewList_2020, 'German', 2020, pathToTXT)\n",
    "ReviewToTXT (ReviewList_2021, 'German', 2021, pathToTXT)"
   ]
  },
  {
   "cell_type": "markdown",
   "id": "dfbc6bb0",
   "metadata": {},
   "source": [
    "### D.2 Save the Dropout Reviews "
   ]
  },
  {
   "cell_type": "markdown",
   "id": "78bb728d",
   "metadata": {},
   "source": [
    "You can also save the Dropout reviews - if necessary. Keep in mind those are not ordered by date. All Dropout Reviews are saved in a single TXT-file! "
   ]
  },
  {
   "cell_type": "code",
   "execution_count": null,
   "id": "0b28204d",
   "metadata": {},
   "outputs": [],
   "source": [
    "dropout_filename= f'Dropoutfiles_german.txt'\n",
    "SavePath = os.path.join (pathToTXT,dropout_filename)\n",
    "\n",
    "with open (SavePath, \"w\", encoding='utf-8') as txtfile:\n",
    "             for content in DropoutReviewsAll:\n",
    "                for review in content:\n",
    "                    txtfile.write( \"%s\\n\" % review)  \n"
   ]
  }
 ],
 "metadata": {
  "kernelspec": {
   "display_name": "Python 3 (ipykernel)",
   "language": "python",
   "name": "python3"
  },
  "language_info": {
   "codemirror_mode": {
    "name": "ipython",
    "version": 3
   },
   "file_extension": ".py",
   "mimetype": "text/x-python",
   "name": "python",
   "nbconvert_exporter": "python",
   "pygments_lexer": "ipython3",
   "version": "3.9.7"
  }
 },
 "nbformat": 4,
 "nbformat_minor": 5
}
