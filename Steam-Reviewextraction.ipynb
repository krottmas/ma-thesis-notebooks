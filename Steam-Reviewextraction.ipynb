{
 "cells": [
  {
   "cell_type": "markdown",
   "metadata": {},
   "source": [
    "## Get Reviews from Steam in JSON format for local data processing "
   ]
  },
  {
   "cell_type": "markdown",
   "metadata": {},
   "source": [
    "This notebook contains an abstracted version of the code used in the course of the master thesis for the extraction of the review data. "
   ]
  },
  {
   "cell_type": "markdown",
   "metadata": {},
   "source": [
    "\n",
    "### Get all Page cursors"
   ]
  },
  {
   "cell_type": "markdown",
   "metadata": {},
   "source": [
    "Since Steam handles there JSON-pages via cursors consisting of random characters, you need to get all the cursors in order to iterate thru all the Reviews of a game (if it has over 100 reviews)."
   ]
  },
  {
   "cell_type": "code",
   "execution_count": null,
   "metadata": {},
   "outputs": [],
   "source": [
    "import requests\n",
    "import json\n",
    "import os.path\n",
    "import urllib.parse\n",
    "\n",
    "\n",
    "cursorlist = [] #empty list for retrieved cursors\n",
    "\n",
    "reviewurl = '' #enter here the url to the first json-page of the reviews; but leave the cursor= parameter empty!\n",
    "\n",
    "\n",
    "#Opens the next json-page when the cursor-parameter is passed and call sthe get_cursor function to get the next cursor\n",
    "\n",
    "def get_jsonpages (cursor): # needs a cursor value to be initated; \n",
    "\n",
    "    if cursor == '*':\n",
    "       url = reviewurl + cursor\n",
    "    else:\n",
    "       save_cursor = urllib.parse.quote(str(cursor))  #urlencoding of the cursor \n",
    "       url = reviewurl + save_cursor\n",
    "       \n",
    "    response = requests.get(url) \n",
    "    data = response.json() \n",
    "    \n",
    "    if data['query_summary']['num_reviews'] == 0: #checks reviewamount; if no reviews are in the page; the function stops\n",
    "        return\n",
    "    else:\n",
    "        return get_cursor(data)  #calls the get_cursor functions, which retrieves the cursor from the json \n",
    "\n",
    "\n",
    "#Retrieves the cursor from the JSON and calls the get_jsonpages function to open the next dataset \n",
    "\n",
    "def get_cursor(response:dict):\n",
    "    \n",
    "    cursor = response['cursor']\n",
    "    cursorlist.append(cursor)\n",
    "\n",
    "    if response['query_summary']['num_reviews'] == 0:\n",
    "        return\n",
    "    else:\n",
    "        return get_jsonpages(cursor)\n",
    "\n",
    "get_jsonpages('*') # starts the functions \n",
    "cursorlist.insert(0, '*') # inserts the missing default value '*' in the list for the next step\n",
    "\n"
   ]
  },
  {
   "cell_type": "markdown",
   "metadata": {},
   "source": [
    "### Save Files to Local Directory"
   ]
  },
  {
   "cell_type": "markdown",
   "metadata": {},
   "source": [
    "Steamworks limits the API-Calls to 100.000 calls a day. If you are looking at a huge amount of reviews, you might as well save them to a local directory and process them afterwards. "
   ]
  },
  {
   "cell_type": "code",
   "execution_count": null,
   "metadata": {},
   "outputs": [],
   "source": [
    "# Iteration through the cursorlist\n",
    "for c in cursorlist:\n",
    "    if c == '*':\n",
    "       url = cursorurl + c\n",
    "    else:\n",
    "       save_cursor = urllib.parse.quote(str(c)) #urlencoding of the cursors in the list \n",
    "       url = cursorurl + save_cursor\n",
    "    \n",
    "    index = cursorlist.index(c) #index for filenames \n",
    "    filename = f'json_page{index}.json'\n",
    "    resp = requests.get(url)\n",
    "    jsondata= resp.json()\n",
    "    \n",
    "    path= '' # enter the path you want to save the files to here \n",
    "    saveToFolder = os.path.join (path,filename) # joins path and filename \n",
    "    \n",
    "    #opens the path and saves the file; if the file already exists it will be overwritten \n",
    "    with open(saveToFolder, 'w') as fp:  \n",
    "        json.dump(jsondata, fp, indent=4)\n"
   ]
  }
 ],
 "metadata": {
  "kernelspec": {
   "display_name": "Python 3 (ipykernel)",
   "language": "python",
   "name": "python3"
  },
  "language_info": {
   "codemirror_mode": {
    "name": "ipython",
    "version": 3
   },
   "file_extension": ".py",
   "mimetype": "text/x-python",
   "name": "python",
   "nbconvert_exporter": "python",
   "pygments_lexer": "ipython3",
   "version": "3.9.7"
  }
 },
 "nbformat": 4,
 "nbformat_minor": 2
}
